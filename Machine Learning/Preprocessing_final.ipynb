{
  "nbformat": 4,
  "nbformat_minor": 0,
  "metadata": {
    "colab": {
      "private_outputs": true,
      "provenance": []
    },
    "kernelspec": {
      "name": "python3",
      "display_name": "Python 3"
    },
    "language_info": {
      "name": "python"
    }
  },
  "cells": [
    {
      "cell_type": "code",
      "execution_count": null,
      "metadata": {
        "id": "eIAUGJSoJ1PL"
      },
      "outputs": [],
      "source": [
        "#import library\n",
        "import pandas as pd \n",
        "import numpy as np\n",
        "import matplotlib.pyplot as plt\n",
        "import seaborn as sns\n",
        "sns.set()\n",
        "from sklearn.cluster import KMeans"
      ]
    },
    {
      "cell_type": "code",
      "source": [
        "df = pd.read_csv('tanggal17_222525_100323.csv',delimiter = ',')\n",
        "df"
      ],
      "metadata": {
        "id": "hbTPOkB9KAeq"
      },
      "execution_count": null,
      "outputs": []
    },
    {
      "cell_type": "code",
      "source": [
        "df['date'] = pd.to_datetime(df['date_and_time'], yearfirst = True).dt.date\n",
        "df['time'] = pd.to_datetime(df['date_and_time']).dt.time\n",
        "df = df.reindex(columns=['date_and_time', 'date', 'time', 'lat', 'lon', 'speed'])\n",
        "df = df.drop('date_and_time', axis=1)\n",
        "df"
      ],
      "metadata": {
        "id": "9aBnSWhDKQZe"
      },
      "execution_count": null,
      "outputs": []
    },
    {
      "cell_type": "code",
      "source": [
        "df['day'] = pd.to_datetime(df['date']).dt.day_name()\n",
        "df = df.reindex(columns=['date', 'time', 'day', 'lat', 'lon', 'speed'])\n",
        "df"
      ],
      "metadata": {
        "id": "0KyeFjapLkcl"
      },
      "execution_count": null,
      "outputs": []
    },
    {
      "cell_type": "code",
      "source": [
        "#pull time data and create hour column\n",
        "df['hour'] = df['time'].astype(str).str[0:2]\n",
        " \n",
        "#convert to numeric    \n",
        "df['hour'] =  pd.to_numeric(df['hour'])\n",
        "\n",
        "#convert to integer\n",
        "df['hour'] = df['hour'].astype('int')"
      ],
      "metadata": {
        "id": "Q1upFKzbOnHO"
      },
      "execution_count": null,
      "outputs": []
    },
    {
      "cell_type": "code",
      "source": [
        "def jam_sibuk(hour):\n",
        "    if (hour >= 6 and hour < 9) or (hour >= 16 and hour < 18):\n",
        "        return 1\n",
        "    else:\n",
        "        return 2"
      ],
      "metadata": {
        "id": "vNML_OqGQq_B"
      },
      "execution_count": null,
      "outputs": []
    },
    {
      "cell_type": "code",
      "source": [
        "df['jam_sibuk'] = df['hour'].apply(jam_sibuk)\n",
        "df = df.drop('hour', axis=1)\n",
        "df"
      ],
      "metadata": {
        "id": "RMiBa2ArRQvg"
      },
      "execution_count": null,
      "outputs": []
    },
    {
      "cell_type": "code",
      "source": [
        "plt.scatter(df['lon'], df['lat'])\n",
        "plt.show()"
      ],
      "metadata": {
        "id": "BWBsCJ62RXjo"
      },
      "execution_count": null,
      "outputs": []
    },
    {
      "cell_type": "code",
      "source": [
        "x = df.iloc[:,3:5]\n",
        "x"
      ],
      "metadata": {
        "id": "_JuzVNpNR75T"
      },
      "execution_count": null,
      "outputs": []
    },
    {
      "cell_type": "code",
      "source": [
        "kmeans = KMeans(n_clusters = 17)\n",
        "kmeans.fit(x)"
      ],
      "metadata": {
        "id": "0X3GbG7lRrL-"
      },
      "execution_count": null,
      "outputs": []
    },
    {
      "cell_type": "code",
      "source": [
        "label = kmeans.fit_predict(x)\n",
        "label"
      ],
      "metadata": {
        "id": "_2ffcEKDR3GL"
      },
      "execution_count": null,
      "outputs": []
    },
    {
      "cell_type": "code",
      "source": [
        "df['jalur'] = label\n",
        "df"
      ],
      "metadata": {
        "id": "t1RbH9Z1SBPd"
      },
      "execution_count": null,
      "outputs": []
    },
    {
      "cell_type": "code",
      "source": [
        "df['jalur'].nunique()"
      ],
      "metadata": {
        "id": "Kt8XibEASa5z"
      },
      "execution_count": null,
      "outputs": []
    },
    {
      "cell_type": "code",
      "source": [
        "plt.scatter(df['lon'], df['lat'], c= df['jalur'], cmap='rainbow')\n",
        "plt.show()"
      ],
      "metadata": {
        "id": "bikb3QMUS4Vd"
      },
      "execution_count": null,
      "outputs": []
    },
    {
      "cell_type": "code",
      "source": [
        "df['avg_speed'] = df.groupby(\"jalur\")[\"speed\"].transform('mean')\n",
        "df"
      ],
      "metadata": {
        "id": "poUytWElS9b0"
      },
      "execution_count": null,
      "outputs": []
    },
    {
      "cell_type": "code",
      "source": [
        "def kondisi_kemacetan(avg_speed):\n",
        "    if avg_speed >= 0 and avg_speed <= 8:\n",
        "        return 1\n",
        "    elif avg_speed >= 9 and avg_speed <= 17:\n",
        "        return 2\n",
        "    else:\n",
        "        return 3"
      ],
      "metadata": {
        "id": "2BY11dadTkFQ"
      },
      "execution_count": null,
      "outputs": []
    },
    {
      "cell_type": "code",
      "source": [
        "df['kondisi'] = df['avg_speed'].apply(kondisi_kemacetan)\n",
        "df"
      ],
      "metadata": {
        "id": "QwpPEALRVT9p"
      },
      "execution_count": null,
      "outputs": []
    },
    {
      "cell_type": "code",
      "source": [
        "df.to_csv('preprocessing_data.csv', index=False)"
      ],
      "metadata": {
        "id": "W6bG7czVVhW2"
      },
      "execution_count": null,
      "outputs": []
    },
    {
      "cell_type": "code",
      "source": [],
      "metadata": {
        "id": "34jsenIrVvPu"
      },
      "execution_count": null,
      "outputs": []
    }
  ]
}