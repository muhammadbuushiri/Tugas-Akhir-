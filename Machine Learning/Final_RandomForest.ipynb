{
 "cells": [
  {
   "cell_type": "code",
   "execution_count": 1,
   "metadata": {},
   "outputs": [],
   "source": [
    "#Importing required packages.\n",
    "import pandas as pd\n",
    "import seaborn as sns\n",
    "import matplotlib.pyplot as plt\n",
    "from sklearn.ensemble import RandomForestClassifier\n",
    "from sklearn.metrics import confusion_matrix, classification_report\n",
    "from sklearn.model_selection import train_test_split\n",
    "from sklearn.metrics import f1_score, precision_score, recall_score, accuracy_score\n",
    "%matplotlib inline"
   ]
  },
  {
   "cell_type": "code",
   "execution_count": 2,
   "metadata": {},
   "outputs": [
    {
     "data": {
      "text/html": [
       "<div>\n",
       "<style scoped>\n",
       "    .dataframe tbody tr th:only-of-type {\n",
       "        vertical-align: middle;\n",
       "    }\n",
       "\n",
       "    .dataframe tbody tr th {\n",
       "        vertical-align: top;\n",
       "    }\n",
       "\n",
       "    .dataframe thead th {\n",
       "        text-align: right;\n",
       "    }\n",
       "</style>\n",
       "<table border=\"1\" class=\"dataframe\">\n",
       "  <thead>\n",
       "    <tr style=\"text-align: right;\">\n",
       "      <th></th>\n",
       "      <th>date</th>\n",
       "      <th>time</th>\n",
       "      <th>day</th>\n",
       "      <th>lat</th>\n",
       "      <th>lon</th>\n",
       "      <th>speed</th>\n",
       "      <th>titik_ke_titik</th>\n",
       "      <th>jalur</th>\n",
       "      <th>avg_speed_tiap_jalur</th>\n",
       "      <th>kondisi</th>\n",
       "      <th>jam_sibuk</th>\n",
       "    </tr>\n",
       "  </thead>\n",
       "  <tbody>\n",
       "    <tr>\n",
       "      <th>0</th>\n",
       "      <td>2022-05-24</td>\n",
       "      <td>06:37:00</td>\n",
       "      <td>2</td>\n",
       "      <td>-6.902390</td>\n",
       "      <td>107.656430</td>\n",
       "      <td>0</td>\n",
       "      <td>Terminal Cicaheum-Halte Padasuka</td>\n",
       "      <td>1</td>\n",
       "      <td>7.3</td>\n",
       "      <td>1</td>\n",
       "      <td>1</td>\n",
       "    </tr>\n",
       "    <tr>\n",
       "      <th>1</th>\n",
       "      <td>2022-05-24</td>\n",
       "      <td>06:37:00</td>\n",
       "      <td>2</td>\n",
       "      <td>-6.902390</td>\n",
       "      <td>107.656430</td>\n",
       "      <td>1</td>\n",
       "      <td>Terminal Cicaheum-Halte Padasuka</td>\n",
       "      <td>1</td>\n",
       "      <td>7.3</td>\n",
       "      <td>1</td>\n",
       "      <td>1</td>\n",
       "    </tr>\n",
       "    <tr>\n",
       "      <th>2</th>\n",
       "      <td>2022-05-24</td>\n",
       "      <td>06:37:00</td>\n",
       "      <td>2</td>\n",
       "      <td>-6.902390</td>\n",
       "      <td>107.656428</td>\n",
       "      <td>1</td>\n",
       "      <td>Terminal Cicaheum-Halte Padasuka</td>\n",
       "      <td>1</td>\n",
       "      <td>7.3</td>\n",
       "      <td>1</td>\n",
       "      <td>1</td>\n",
       "    </tr>\n",
       "    <tr>\n",
       "      <th>3</th>\n",
       "      <td>2022-05-24</td>\n",
       "      <td>06:37:00</td>\n",
       "      <td>2</td>\n",
       "      <td>-6.902388</td>\n",
       "      <td>107.656418</td>\n",
       "      <td>1</td>\n",
       "      <td>Terminal Cicaheum-Halte Padasuka</td>\n",
       "      <td>1</td>\n",
       "      <td>7.3</td>\n",
       "      <td>1</td>\n",
       "      <td>1</td>\n",
       "    </tr>\n",
       "    <tr>\n",
       "      <th>4</th>\n",
       "      <td>2022-05-24</td>\n",
       "      <td>06:37:00</td>\n",
       "      <td>2</td>\n",
       "      <td>-6.902388</td>\n",
       "      <td>107.656408</td>\n",
       "      <td>2</td>\n",
       "      <td>Terminal Cicaheum-Halte Padasuka</td>\n",
       "      <td>1</td>\n",
       "      <td>7.3</td>\n",
       "      <td>1</td>\n",
       "      <td>1</td>\n",
       "    </tr>\n",
       "    <tr>\n",
       "      <th>...</th>\n",
       "      <td>...</td>\n",
       "      <td>...</td>\n",
       "      <td>...</td>\n",
       "      <td>...</td>\n",
       "      <td>...</td>\n",
       "      <td>...</td>\n",
       "      <td>...</td>\n",
       "      <td>...</td>\n",
       "      <td>...</td>\n",
       "      <td>...</td>\n",
       "      <td>...</td>\n",
       "    </tr>\n",
       "    <tr>\n",
       "      <th>20151</th>\n",
       "      <td>2022-05-26</td>\n",
       "      <td>07:01:00</td>\n",
       "      <td>4</td>\n",
       "      <td>-6.913817</td>\n",
       "      <td>107.575513</td>\n",
       "      <td>11</td>\n",
       "      <td>Halte Jendral Sudirman 3-Terminal Damri Elang</td>\n",
       "      <td>17</td>\n",
       "      <td>19.0</td>\n",
       "      <td>3</td>\n",
       "      <td>1</td>\n",
       "    </tr>\n",
       "    <tr>\n",
       "      <th>20152</th>\n",
       "      <td>2022-05-26</td>\n",
       "      <td>07:01:00</td>\n",
       "      <td>4</td>\n",
       "      <td>-6.913792</td>\n",
       "      <td>107.575518</td>\n",
       "      <td>9</td>\n",
       "      <td>Halte Jendral Sudirman 3-Terminal Damri Elang</td>\n",
       "      <td>17</td>\n",
       "      <td>19.0</td>\n",
       "      <td>3</td>\n",
       "      <td>1</td>\n",
       "    </tr>\n",
       "    <tr>\n",
       "      <th>20153</th>\n",
       "      <td>2022-05-26</td>\n",
       "      <td>07:01:00</td>\n",
       "      <td>4</td>\n",
       "      <td>-6.913768</td>\n",
       "      <td>107.575512</td>\n",
       "      <td>6</td>\n",
       "      <td>Halte Jendral Sudirman 3-Terminal Damri Elang</td>\n",
       "      <td>17</td>\n",
       "      <td>19.0</td>\n",
       "      <td>3</td>\n",
       "      <td>1</td>\n",
       "    </tr>\n",
       "    <tr>\n",
       "      <th>20154</th>\n",
       "      <td>2022-05-26</td>\n",
       "      <td>07:01:00</td>\n",
       "      <td>4</td>\n",
       "      <td>-6.913753</td>\n",
       "      <td>107.575505</td>\n",
       "      <td>5</td>\n",
       "      <td>Halte Jendral Sudirman 3-Terminal Damri Elang</td>\n",
       "      <td>17</td>\n",
       "      <td>19.0</td>\n",
       "      <td>3</td>\n",
       "      <td>1</td>\n",
       "    </tr>\n",
       "    <tr>\n",
       "      <th>20155</th>\n",
       "      <td>2022-05-26</td>\n",
       "      <td>07:01:00</td>\n",
       "      <td>4</td>\n",
       "      <td>-6.913742</td>\n",
       "      <td>107.575497</td>\n",
       "      <td>4</td>\n",
       "      <td>Halte Jendral Sudirman 3-Terminal Damri Elang</td>\n",
       "      <td>17</td>\n",
       "      <td>19.0</td>\n",
       "      <td>3</td>\n",
       "      <td>1</td>\n",
       "    </tr>\n",
       "  </tbody>\n",
       "</table>\n",
       "<p>20156 rows × 11 columns</p>\n",
       "</div>"
      ],
      "text/plain": [
       "             date      time  day       lat         lon  speed  \\\n",
       "0      2022-05-24  06:37:00    2 -6.902390  107.656430      0   \n",
       "1      2022-05-24  06:37:00    2 -6.902390  107.656430      1   \n",
       "2      2022-05-24  06:37:00    2 -6.902390  107.656428      1   \n",
       "3      2022-05-24  06:37:00    2 -6.902388  107.656418      1   \n",
       "4      2022-05-24  06:37:00    2 -6.902388  107.656408      2   \n",
       "...           ...       ...  ...       ...         ...    ...   \n",
       "20151  2022-05-26  07:01:00    4 -6.913817  107.575513     11   \n",
       "20152  2022-05-26  07:01:00    4 -6.913792  107.575518      9   \n",
       "20153  2022-05-26  07:01:00    4 -6.913768  107.575512      6   \n",
       "20154  2022-05-26  07:01:00    4 -6.913753  107.575505      5   \n",
       "20155  2022-05-26  07:01:00    4 -6.913742  107.575497      4   \n",
       "\n",
       "                                      titik_ke_titik  jalur  \\\n",
       "0                   Terminal Cicaheum-Halte Padasuka      1   \n",
       "1                   Terminal Cicaheum-Halte Padasuka      1   \n",
       "2                   Terminal Cicaheum-Halte Padasuka      1   \n",
       "3                   Terminal Cicaheum-Halte Padasuka      1   \n",
       "4                   Terminal Cicaheum-Halte Padasuka      1   \n",
       "...                                              ...    ...   \n",
       "20151  Halte Jendral Sudirman 3-Terminal Damri Elang     17   \n",
       "20152  Halte Jendral Sudirman 3-Terminal Damri Elang     17   \n",
       "20153  Halte Jendral Sudirman 3-Terminal Damri Elang     17   \n",
       "20154  Halte Jendral Sudirman 3-Terminal Damri Elang     17   \n",
       "20155  Halte Jendral Sudirman 3-Terminal Damri Elang     17   \n",
       "\n",
       "       avg_speed_tiap_jalur  kondisi  jam_sibuk  \n",
       "0                       7.3        1          1  \n",
       "1                       7.3        1          1  \n",
       "2                       7.3        1          1  \n",
       "3                       7.3        1          1  \n",
       "4                       7.3        1          1  \n",
       "...                     ...      ...        ...  \n",
       "20151                  19.0        3          1  \n",
       "20152                  19.0        3          1  \n",
       "20153                  19.0        3          1  \n",
       "20154                  19.0        3          1  \n",
       "20155                  19.0        3          1  \n",
       "\n",
       "[20156 rows x 11 columns]"
      ]
     },
     "execution_count": 2,
     "metadata": {},
     "output_type": "execute_result"
    }
   ],
   "source": [
    "df = pd.read_csv('gabungan_cicahaeum_cibereum.csv',delimiter = ';')\n",
    "df"
   ]
  },
  {
   "cell_type": "code",
   "execution_count": 3,
   "metadata": {},
   "outputs": [
    {
     "data": {
      "text/plain": [
       "date                    0\n",
       "time                    0\n",
       "day                     0\n",
       "lat                     0\n",
       "lon                     0\n",
       "speed                   0\n",
       "titik_ke_titik          0\n",
       "jalur                   0\n",
       "avg_speed_tiap_jalur    0\n",
       "kondisi                 0\n",
       "jam_sibuk               0\n",
       "dtype: int64"
      ]
     },
     "execution_count": 3,
     "metadata": {},
     "output_type": "execute_result"
    }
   ],
   "source": [
    "df.isna().sum()"
   ]
  },
  {
   "cell_type": "code",
   "execution_count": 4,
   "metadata": {},
   "outputs": [
    {
     "name": "stdout",
     "output_type": "stream",
     "text": [
      "<class 'pandas.core.frame.DataFrame'>\n",
      "RangeIndex: 20156 entries, 0 to 20155\n",
      "Data columns (total 11 columns):\n",
      " #   Column                Non-Null Count  Dtype  \n",
      "---  ------                --------------  -----  \n",
      " 0   date                  20156 non-null  object \n",
      " 1   time                  20156 non-null  object \n",
      " 2   day                   20156 non-null  int64  \n",
      " 3   lat                   20156 non-null  float64\n",
      " 4   lon                   20156 non-null  float64\n",
      " 5   speed                 20156 non-null  int64  \n",
      " 6   titik_ke_titik        20156 non-null  object \n",
      " 7   jalur                 20156 non-null  int64  \n",
      " 8   avg_speed_tiap_jalur  20156 non-null  int32  \n",
      " 9   kondisi               20156 non-null  int64  \n",
      " 10  jam_sibuk             20156 non-null  int64  \n",
      "dtypes: float64(2), int32(1), int64(5), object(3)\n",
      "memory usage: 1.6+ MB\n"
     ]
    }
   ],
   "source": [
    "df['avg_speed_tiap_jalur'] = df['avg_speed_tiap_jalur'].astype(int)\n",
    "df.info()"
   ]
  },
  {
   "cell_type": "code",
   "execution_count": 5,
   "metadata": {},
   "outputs": [
    {
     "data": {
      "text/plain": [
       "array([[2, 1, 1],\n",
       "       [2, 1, 1],\n",
       "       [2, 1, 1],\n",
       "       [2, 1, 1],\n",
       "       [2, 1, 1]], dtype=int64)"
      ]
     },
     "execution_count": 5,
     "metadata": {},
     "output_type": "execute_result"
    }
   ],
   "source": [
    "x = df[['day','jam_sibuk', 'jalur']].values\n",
    "x[0:5]"
   ]
  },
  {
   "cell_type": "code",
   "execution_count": 6,
   "metadata": {},
   "outputs": [
    {
     "data": {
      "text/plain": [
       "array([1, 1, 1, 1, 1], dtype=int64)"
      ]
     },
     "execution_count": 6,
     "metadata": {},
     "output_type": "execute_result"
    }
   ],
   "source": [
    "y = df['kondisi'].values\n",
    "y[0:5]"
   ]
  },
  {
   "cell_type": "code",
   "execution_count": 7,
   "metadata": {},
   "outputs": [],
   "source": [
    "# split data into training and testing sets\n",
    "\n",
    "from sklearn.model_selection import train_test_split\n",
    "\n",
    "x_train, x_test, y_train, y_test = train_test_split(x, y, test_size = 0.4, random_state = 42)"
   ]
  },
  {
   "cell_type": "code",
   "execution_count": 8,
   "metadata": {},
   "outputs": [
    {
     "data": {
      "text/plain": [
       "((12093, 3), (8063, 3))"
      ]
     },
     "execution_count": 8,
     "metadata": {},
     "output_type": "execute_result"
    }
   ],
   "source": [
    "x_train.shape, x_test.shape"
   ]
  },
  {
   "cell_type": "code",
   "execution_count": 9,
   "metadata": {},
   "outputs": [
    {
     "name": "stdout",
     "output_type": "stream",
     "text": [
      "[(1, 0.7565422299392286), (2, 0.7565422299392286), (3, 0.7812228698995412), (4, 0.801066600520898), (5, 0.8880069453057174), (6, 0.9118194220513457), (7, 0.9366240853280416), (8, 0.9662656579436935), (9, 0.9662656579436935), (10, 0.9662656579436935), (11, 0.9662656579436935), (12, 0.9662656579436935), (13, 0.9662656579436935), (14, 0.9662656579436935), (15, 0.9662656579436935), (16, 0.9662656579436935), (17, 0.9662656579436935), (18, 0.9662656579436935), (19, 0.9662656579436935)]\n",
      "[(1, 0.7515918299842884), (2, 0.7515918299842884), (3, 0.775489952865294), (4, 0.7934342181427272), (5, 0.8878690151327214), (6, 0.9115190606135781), (7, 0.9365748780286116), (8, 0.9660960886463243), (9, 0.9660960886463243), (10, 0.9660960886463243), (11, 0.9660960886463243), (12, 0.9660960886463243), (13, 0.9660960886463243), (14, 0.9660960886463243), (15, 0.9660960886463243), (16, 0.9660960886463243), (17, 0.9660960886463243), (18, 0.9660960886463243), (19, 0.9660960886463243)]\n"
     ]
    }
   ],
   "source": [
    "depth_test = []\n",
    "latih_scores = []\n",
    "test_scores = []\n",
    "depth_latih = []\n",
    "\n",
    "for i in range(1,20):\n",
    "    rf = RandomForestClassifier(max_depth=i)\n",
    "    rf.fit(x_train, y_train)\n",
    "    latih = rf.score(x_train, y_train)\n",
    "    test = rf.score(x_test, y_test)\n",
    "    latih_scores.append(latih)\n",
    "    test_scores.append(test)\n",
    "    depth_test.append((i,test.mean()))\n",
    "    depth_latih.append((i,latih.mean()))\n",
    "print(depth_test)\n",
    "print(depth_latih)"
   ]
  },
  {
   "cell_type": "code",
   "execution_count": 10,
   "metadata": {},
   "outputs": [
    {
     "data": {
      "text/html": [
       "<div>\n",
       "<style scoped>\n",
       "    .dataframe tbody tr th:only-of-type {\n",
       "        vertical-align: middle;\n",
       "    }\n",
       "\n",
       "    .dataframe tbody tr th {\n",
       "        vertical-align: top;\n",
       "    }\n",
       "\n",
       "    .dataframe thead th {\n",
       "        text-align: right;\n",
       "    }\n",
       "</style>\n",
       "<table border=\"1\" class=\"dataframe\">\n",
       "  <thead>\n",
       "    <tr style=\"text-align: right;\">\n",
       "      <th></th>\n",
       "      <th>max_depth</th>\n",
       "      <th>latih_acc</th>\n",
       "      <th>test_acc</th>\n",
       "    </tr>\n",
       "  </thead>\n",
       "  <tbody>\n",
       "    <tr>\n",
       "      <th>0</th>\n",
       "      <td>1</td>\n",
       "      <td>0.751592</td>\n",
       "      <td>0.756542</td>\n",
       "    </tr>\n",
       "    <tr>\n",
       "      <th>1</th>\n",
       "      <td>2</td>\n",
       "      <td>0.751592</td>\n",
       "      <td>0.756542</td>\n",
       "    </tr>\n",
       "    <tr>\n",
       "      <th>2</th>\n",
       "      <td>3</td>\n",
       "      <td>0.775490</td>\n",
       "      <td>0.781223</td>\n",
       "    </tr>\n",
       "    <tr>\n",
       "      <th>3</th>\n",
       "      <td>4</td>\n",
       "      <td>0.793434</td>\n",
       "      <td>0.801067</td>\n",
       "    </tr>\n",
       "    <tr>\n",
       "      <th>4</th>\n",
       "      <td>5</td>\n",
       "      <td>0.887869</td>\n",
       "      <td>0.888007</td>\n",
       "    </tr>\n",
       "    <tr>\n",
       "      <th>5</th>\n",
       "      <td>6</td>\n",
       "      <td>0.911519</td>\n",
       "      <td>0.911819</td>\n",
       "    </tr>\n",
       "    <tr>\n",
       "      <th>6</th>\n",
       "      <td>7</td>\n",
       "      <td>0.936575</td>\n",
       "      <td>0.936624</td>\n",
       "    </tr>\n",
       "    <tr>\n",
       "      <th>7</th>\n",
       "      <td>8</td>\n",
       "      <td>0.966096</td>\n",
       "      <td>0.966266</td>\n",
       "    </tr>\n",
       "    <tr>\n",
       "      <th>8</th>\n",
       "      <td>9</td>\n",
       "      <td>0.966096</td>\n",
       "      <td>0.966266</td>\n",
       "    </tr>\n",
       "    <tr>\n",
       "      <th>9</th>\n",
       "      <td>10</td>\n",
       "      <td>0.966096</td>\n",
       "      <td>0.966266</td>\n",
       "    </tr>\n",
       "  </tbody>\n",
       "</table>\n",
       "</div>"
      ],
      "text/plain": [
       "   max_depth  latih_acc  test_acc\n",
       "0          1   0.751592  0.756542\n",
       "1          2   0.751592  0.756542\n",
       "2          3   0.775490  0.781223\n",
       "3          4   0.793434  0.801067\n",
       "4          5   0.887869  0.888007\n",
       "5          6   0.911519  0.911819\n",
       "6          7   0.936575  0.936624\n",
       "7          8   0.966096  0.966266\n",
       "8          9   0.966096  0.966266\n",
       "9         10   0.966096  0.966266"
      ]
     },
     "execution_count": 10,
     "metadata": {},
     "output_type": "execute_result"
    }
   ],
   "source": [
    "datas = pd.DataFrame({'max_depth':range(1,20), 'latih_acc':latih_scores, 'test_acc':test_scores})\n",
    "datas.head(10)"
   ]
  },
  {
   "cell_type": "code",
   "execution_count": 11,
   "metadata": {},
   "outputs": [
    {
     "data": {
      "image/png": "[encoded data removed]",
      "text/plain": [
       "<Figure size 864x432 with 1 Axes>"
      ]
     },
     "metadata": {
      "needs_background": "light"
     },
     "output_type": "display_data"
    }
   ],
   "source": [
    "plt.figure(figsize=(12,6))\n",
    "plt.plot(datas['max_depth'], datas['latih_acc'], marker='o', label='Train_acc')\n",
    "plt.plot(datas['max_depth'], datas['test_acc'], marker='o', label='Test_acc')\n",
    "plt.xlabel('Depth of tree')\n",
    "plt.ylabel('Performance')\n",
    "plt.legend()\n",
    "plt.grid()\n",
    "plt.show()"
   ]
  },
  {
   "cell_type": "code",
   "execution_count": 12,
   "metadata": {},
   "outputs": [
    {
     "data": {
      "text/plain": [
       "RandomForestClassifier(max_depth=8, random_state=42)"
      ]
     },
     "execution_count": 12,
     "metadata": {},
     "output_type": "execute_result"
    }
   ],
   "source": [
    "# import Random Forest classifier\n",
    "\n",
    "from sklearn.ensemble import RandomForestClassifier\n",
    "# instantiate the classifier \n",
    "rfc = RandomForestClassifier(max_depth=8, random_state=42)\n",
    "# fit the model\n",
    "rfc.fit(x_train, y_train)"
   ]
  },
  {
   "cell_type": "code",
   "execution_count": 13,
   "metadata": {},
   "outputs": [
    {
     "name": "stdout",
     "output_type": "stream",
     "text": [
      "Accuracy Score: 0.9660960886463243\n"
     ]
    }
   ],
   "source": [
    "#prediction3\n",
    "y_pred = rfc.predict(x_train)#Accuracy\n",
    "from sklearn import metrics \n",
    "print('Accuracy Score:', metrics.accuracy_score(y_train,y_pred))"
   ]
  },
  {
   "cell_type": "code",
   "execution_count": 14,
   "metadata": {},
   "outputs": [
    {
     "name": "stdout",
     "output_type": "stream",
     "text": [
      "Accuracy Score: 0.9662656579436935\n"
     ]
    }
   ],
   "source": [
    "#prediction3\n",
    "y_pred = rfc.predict(x_test)#Accuracy\n",
    "from sklearn import metrics \n",
    "print('Accuracy Score:', metrics.accuracy_score(y_test,y_pred))"
   ]
  },
  {
   "cell_type": "code",
   "execution_count": 15,
   "metadata": {},
   "outputs": [
    {
     "name": "stdout",
     "output_type": "stream",
     "text": [
      "Recall:  0.9662656579436935\n",
      "Precision:  0.9680087572035436\n",
      "F1-Score:  0.9657166502673558\n",
      "Accuracy:  0.9662656579436935\n"
     ]
    }
   ],
   "source": [
    "from sklearn.metrics import f1_score, precision_score, recall_score, accuracy_score\n",
    "print('Recall: ',format(recall_score(y_test, y_pred, average='weighted')))\n",
    "print('Precision: ',format(precision_score(y_test, y_pred, average='weighted')))\n",
    "print('F1-Score: ',format(f1_score(y_test, y_pred, average='weighted')))\n",
    "print('Accuracy: ',format(accuracy_score(y_test, y_pred)))"
   ]
  },
  {
   "cell_type": "code",
   "execution_count": 16,
   "metadata": {},
   "outputs": [
    {
     "name": "stdout",
     "output_type": "stream",
     "text": [
      "              precision    recall  f1-score   support\n",
      "\n",
      "           1       1.00      1.00      1.00       898\n",
      "           2       0.95      1.00      0.97      4789\n",
      "           3       1.00      0.89      0.94      2376\n",
      "\n",
      "    accuracy                           0.97      8063\n",
      "   macro avg       0.98      0.96      0.97      8063\n",
      "weighted avg       0.97      0.97      0.97      8063\n",
      "\n"
     ]
    }
   ],
   "source": [
    "from sklearn.metrics import confusion_matrix\n",
    "cm = confusion_matrix(y_test, y_pred)\n",
    "print(metrics.classification_report(y_test, y_pred))"
   ]
  },
  {
   "cell_type": "code",
   "execution_count": 17,
   "metadata": {},
   "outputs": [
    {
     "data": {
      "image/png": "[encoded data removed]",
      "text/plain": [
       "<Figure size 576x432 with 1 Axes>"
      ]
     },
     "metadata": {
      "needs_background": "light"
     },
     "output_type": "display_data"
    }
   ],
   "source": [
    "plt.figure(figsize = (8, 6))\n",
    "ax = sns.heatmap(confusion_matrix(y_test,y_pred), annot=True, cmap=\"YlGnBu\", fmt=\"d\", cbar=False, annot_kws={\"size\": 24})\n",
    "ax.set_xticklabels(['Macet', 'Sedang', 'Lancar'])\n",
    "ax.set_yticklabels(['Macet', 'Sedang', 'Lancar'], rotation=90, va='center')\n",
    "plt.show()"
   ]
  },
  {
   "cell_type": "code",
   "execution_count": 27,
   "metadata": {},
   "outputs": [
    {
     "data": {
      "text/plain": [
       "array([2], dtype=int64)"
      ]
     },
     "execution_count": 27,
     "metadata": {},
     "output_type": "execute_result"
    }
   ],
   "source": [
    "x_new = [[6 ,2, 8]]\n",
    "pred = rfc.predict(x_new)\n",
    "pred"
   ]
  },
  {
   "cell_type": "code",
   "execution_count": 19,
   "metadata": {},
   "outputs": [],
   "source": [
    "import pickle\n",
    "with open ('rf_pickle', 'wb') as files:\n",
    "    pickle.dump(rfc, files)"
   ]
  },
  {
   "cell_type": "code",
   "execution_count": 20,
   "metadata": {},
   "outputs": [],
   "source": [
    "# load saved model\n",
    "with open('rf_pickle' , 'rb') as f:\n",
    "    lr = pickle.load(f)"
   ]
  },
  {
   "cell_type": "code",
   "execution_count": 21,
   "metadata": {},
   "outputs": [
    {
     "data": {
      "text/plain": [
       "array([3], dtype=int64)"
      ]
     },
     "execution_count": 21,
     "metadata": {},
     "output_type": "execute_result"
    }
   ],
   "source": [
    "lr.predict([[2 ,1, 17]])"
   ]
  },
  {
   "cell_type": "code",
   "execution_count": 23,
   "metadata": {},
   "outputs": [
    {
     "data": {
      "text/plain": [
       "'0.23.2'"
      ]
     },
     "execution_count": 23,
     "metadata": {},
     "output_type": "execute_result"
    }
   ],
   "source": [
    "import sklearn as sk\n",
    "sk.__version__"
   ]
  },
  {
   "cell_type": "code",
   "execution_count": 24,
   "metadata": {},
   "outputs": [
    {
     "name": "stdout",
     "output_type": "stream",
     "text": [
      "sklearn: 0.23.2\n"
     ]
    }
   ],
   "source": [
    "import sklearn\n",
    "print('sklearn: {}'.format(sklearn.__version__))"
   ]
  },
  {
   "cell_type": "code",
   "execution_count": null,
   "metadata": {},
   "outputs": [],
   "source": []
  }
 ],
 "metadata": {
  "kernelspec": {
   "display_name": "Python 3",
   "language": "python",
   "name": "python3"
  },
  "language_info": {
   "codemirror_mode": {
    "name": "ipython",
    "version": 3
   },
   "file_extension": ".py",
   "mimetype": "text/x-python",
   "name": "python",
   "nbconvert_exporter": "python",
   "pygments_lexer": "ipython3",
   "version": "3.8.5"
  }
 },
 "nbformat": 4,
 "nbformat_minor": 4
}
